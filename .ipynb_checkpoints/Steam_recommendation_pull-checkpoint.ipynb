{
 "cells": [
  {
   "cell_type": "code",
   "execution_count": 4,
   "metadata": {},
   "outputs": [],
   "source": [
    "import json\n",
    "from urllib.request import urlopen\n",
    "import requests,json,os,sys,time,re\n",
    "import pandas as pd\n",
    "import numpy as np\n",
    "import ast\n",
    "import steamspypi"
   ]
  },
  {
   "cell_type": "markdown",
   "metadata": {},
   "source": [
    "### SteamSpy"
   ]
  },
  {
   "cell_type": "code",
   "execution_count": 5,
   "metadata": {},
   "outputs": [],
   "source": [
    "url = \"https://steamspy.com/api.php\"\n",
    "#url2 = 'steamspy.com/api.php?request=appdetails&appid=730'\n",
    "parameters = {\"request\": \"appdetails\", 'appid': '730'}"
   ]
  },
  {
   "cell_type": "code",
   "execution_count": 6,
   "metadata": {},
   "outputs": [],
   "source": [
    "response = requests.get(url=url, params=parameters)"
   ]
  },
  {
   "cell_type": "code",
   "execution_count": 7,
   "metadata": {},
   "outputs": [
    {
     "data": {
      "text/plain": [
       "b\"This is an API for Steam Spy. It accepts requests in a GET string and returns data in JSON arrays.\\r\\n\\r\\n  *IMPORTANT:* some things have changed, please, read this document through!\\r\\n\\r\\n  The data is refreshed once a day, there is no reason to request the same information more than once every 24 hours.\\r\\n\\r\\n  Allowed poll rate - 1 request per second for most requests, 1 request per 60 seconds for the *all* requests.\\r\\n\\r\\n  ## Examples: ##\\r\\n   \\r\\n  * steamspy.com/api.php?request=appdetails&appid=730 - returns data for Counter-Strike: Global Offensive\\r\\n  * steamspy.com/api.php?request=top100in2weeks - return Top 100 apps by players in the last two weeks\\r\\n  * steamspy.com/api.php?request=all&page=1 - return apps 1,000-1,999 of all apps.\\r\\n\\r\\n\\r\\n  ## Common parameters: ##\\r\\n \\r\\n  * request - code for API request call.\\r\\n  * appid - Application ID (a number).\\r\\n\\r\\n\\r\\n  ## Accepted requests: ##\\r\\n  \\r\\n  ### appdetails ###\\r\\n\\r\\n  Returns details for the specific application. Requires *appid* parameter.  \\r\\n\\r\\n  ### genre ###\\r\\n\\r\\n  Returns games in this particular genre. Requires *genre* parameter and works like this:\\r\\n  \\r\\n  * steamspy.com/api.php?request=genre&genre=Early+Access\\r\\n\\r\\n  ### tag ###\\r\\n\\r\\n  Returns games with this particular tag. Requires *tag* parameter and works like this:\\r\\n  \\r\\n  * steamspy.com/api.php?request=tag&tag=Early+Access\\r\\n\\r\\n  ### top100in2weeks ###\\r\\n\\r\\n  Returns Top 100 games by players in the last two weeks.\\r\\n\\r\\n  ### top100forever ###\\r\\n\\r\\n  Returns Top 100 games by players since March 2009.\\r\\n\\r\\n  ### top100owned ###\\r\\n\\r\\n  Returns Top 100 games by owners.\\r\\n\\r\\n  ### all ###\\r\\n\\r\\n  Returns all games with owners data sorted by owners. Returns 1,000 entries per page.\\r\\n  * page - page number for the list (starts at 0)\\r\\n\\r\\n\\r\\n  ## Return format for an app: ##\\r\\n\\r\\n  * appid - Steam Application ID. If it's 999999, then data for this application is hidden on developer's request, sorry.\\r\\n  * name - game's name\\r\\n  * developer - comma separated list of the developers of the game\\r\\n  * publisher - comma separated list of the publishers of the game\\r\\n  * score_rank - score rank of the game based on user reviews\\r\\n  * owners - owners of this application on Steam as a range.\\r\\n  * average_forever - average playtime since March 2009. In minutes.\\r\\n  * average_2weeks - average playtime in the last two weeks. In minutes.\\r\\n  * median_forever - median playtime since March 2009. In minutes.\\r\\n  * median_2weeks - median playtime in the last two weeks. In minutes.\\r\\n  * ccu - peak CCU yesterday.\\r\\n  * price - current US price in cents.\\r\\n  * initialprice - original US price in cents.\\r\\n  * discount - current discount in percents.\\r\\n  * tags - game's tags with votes in JSON array.\\r\\n  * languages - list of supported languages.\\r\\n  * genre - list of genres.\\r\\n\\r\\n\\r\\n  ## Questions? ##\\r\\n\\r\\n  Contact me by e-mail: *sergey at galyonkin dot com*.\\r\\n\\r\\n  \""
      ]
     },
     "execution_count": 7,
     "metadata": {},
     "output_type": "execute_result"
    }
   ],
   "source": [
    "response.content"
   ]
  },
  {
   "cell_type": "code",
   "execution_count": 14,
   "metadata": {},
   "outputs": [],
   "source": [
    "url = \"https://steamspy.com/api.php?request=appdetails&appid=10\"\n",
    "#url = 'https://w3schools.com'\n",
    "response = requests.get(url=url)"
   ]
  },
  {
   "cell_type": "code",
   "execution_count": 17,
   "metadata": {},
   "outputs": [
    {
     "data": {
      "text/plain": [
       "b\"This is an API for Steam Spy. It accepts requests in a GET string and returns data in JSON arrays.\\r\\n\\r\\n  *IMPORTANT:* some things have changed, please, read this document through!\\r\\n\\r\\n  The data is refreshed once a day, there is no reason to request the same information more than once every 24 hours.\\r\\n\\r\\n  Allowed poll rate - 1 request per second for most requests, 1 request per 60 seconds for the *all* requests.\\r\\n\\r\\n  ## Examples: ##\\r\\n   \\r\\n  * steamspy.com/api.php?request=appdetails&appid=730 - returns data for Counter-Strike: Global Offensive\\r\\n  * steamspy.com/api.php?request=top100in2weeks - return Top 100 apps by players in the last two weeks\\r\\n  * steamspy.com/api.php?request=all&page=1 - return apps 1,000-1,999 of all apps.\\r\\n\\r\\n\\r\\n  ## Common parameters: ##\\r\\n \\r\\n  * request - code for API request call.\\r\\n  * appid - Application ID (a number).\\r\\n\\r\\n\\r\\n  ## Accepted requests: ##\\r\\n  \\r\\n  ### appdetails ###\\r\\n\\r\\n  Returns details for the specific application. Requires *appid* parameter.  \\r\\n\\r\\n  ### genre ###\\r\\n\\r\\n  Returns games in this particular genre. Requires *genre* parameter and works like this:\\r\\n  \\r\\n  * steamspy.com/api.php?request=genre&genre=Early+Access\\r\\n\\r\\n  ### tag ###\\r\\n\\r\\n  Returns games with this particular tag. Requires *tag* parameter and works like this:\\r\\n  \\r\\n  * steamspy.com/api.php?request=tag&tag=Early+Access\\r\\n\\r\\n  ### top100in2weeks ###\\r\\n\\r\\n  Returns Top 100 games by players in the last two weeks.\\r\\n\\r\\n  ### top100forever ###\\r\\n\\r\\n  Returns Top 100 games by players since March 2009.\\r\\n\\r\\n  ### top100owned ###\\r\\n\\r\\n  Returns Top 100 games by owners.\\r\\n\\r\\n  ### all ###\\r\\n\\r\\n  Returns all games with owners data sorted by owners. Returns 1,000 entries per page.\\r\\n  * page - page number for the list (starts at 0)\\r\\n\\r\\n\\r\\n  ## Return format for an app: ##\\r\\n\\r\\n  * appid - Steam Application ID. If it's 999999, then data for this application is hidden on developer's request, sorry.\\r\\n  * name - game's name\\r\\n  * developer - comma separated list of the developers of the game\\r\\n  * publisher - comma separated list of the publishers of the game\\r\\n  * score_rank - score rank of the game based on user reviews\\r\\n  * owners - owners of this application on Steam as a range.\\r\\n  * average_forever - average playtime since March 2009. In minutes.\\r\\n  * average_2weeks - average playtime in the last two weeks. In minutes.\\r\\n  * median_forever - median playtime since March 2009. In minutes.\\r\\n  * median_2weeks - median playtime in the last two weeks. In minutes.\\r\\n  * ccu - peak CCU yesterday.\\r\\n  * price - current US price in cents.\\r\\n  * initialprice - original US price in cents.\\r\\n  * discount - current discount in percents.\\r\\n  * tags - game's tags with votes in JSON array.\\r\\n  * languages - list of supported languages.\\r\\n  * genre - list of genres.\\r\\n\\r\\n\\r\\n  ## Questions? ##\\r\\n\\r\\n  Contact me by e-mail: *sergey at galyonkin dot com*.\\r\\n\\r\\n  \""
      ]
     },
     "execution_count": 17,
     "metadata": {},
     "output_type": "execute_result"
    }
   ],
   "source": [
    "response.content"
   ]
  },
  {
   "cell_type": "code",
   "execution_count": null,
   "metadata": {},
   "outputs": [],
   "source": []
  },
  {
   "cell_type": "code",
   "execution_count": null,
   "metadata": {},
   "outputs": [],
   "source": []
  },
  {
   "cell_type": "code",
   "execution_count": null,
   "metadata": {},
   "outputs": [],
   "source": []
  },
  {
   "cell_type": "code",
   "execution_count": null,
   "metadata": {},
   "outputs": [],
   "source": []
  },
  {
   "cell_type": "code",
   "execution_count": null,
   "metadata": {},
   "outputs": [],
   "source": []
  },
  {
   "cell_type": "code",
   "execution_count": null,
   "metadata": {},
   "outputs": [],
   "source": []
  },
  {
   "cell_type": "code",
   "execution_count": null,
   "metadata": {},
   "outputs": [],
   "source": []
  },
  {
   "cell_type": "code",
   "execution_count": null,
   "metadata": {},
   "outputs": [],
   "source": []
  },
  {
   "cell_type": "code",
   "execution_count": null,
   "metadata": {},
   "outputs": [],
   "source": []
  },
  {
   "cell_type": "code",
   "execution_count": 28,
   "metadata": {},
   "outputs": [],
   "source": [
    "file = open(\"all_game_id.txt\", \"r\")\n",
    "contents = file.read()\n",
    "dictionary = ast.literal_eval(contents)"
   ]
  },
  {
   "cell_type": "code",
   "execution_count": 38,
   "metadata": {},
   "outputs": [
    {
     "data": {
      "text/plain": [
       "101965"
      ]
     },
     "execution_count": 38,
     "metadata": {},
     "output_type": "execute_result"
    }
   ],
   "source": [
    "len(dictionary['applist']['apps']['app'])"
   ]
  },
  {
   "cell_type": "code",
   "execution_count": 40,
   "metadata": {},
   "outputs": [
    {
     "data": {
      "text/plain": [
       "{'appid': 1149460, 'name': 'Icarus'}"
      ]
     },
     "execution_count": 40,
     "metadata": {},
     "output_type": "execute_result"
    }
   ],
   "source": [
    "dictionary['applist']['apps']['app'][101964]"
   ]
  },
  {
   "cell_type": "markdown",
   "metadata": {},
   "source": [
    "### Steam powered API"
   ]
  },
  {
   "cell_type": "code",
   "execution_count": 43,
   "metadata": {},
   "outputs": [],
   "source": [
    "r = requests.get('https://api.steampowered.com/ISteamApps/GetAppList/v2/')\n",
    "games_dict =  r.json()"
   ]
  },
  {
   "cell_type": "code",
   "execution_count": 60,
   "metadata": {},
   "outputs": [
    {
     "data": {
      "text/plain": [
       "101966"
      ]
     },
     "execution_count": 60,
     "metadata": {},
     "output_type": "execute_result"
    }
   ],
   "source": [
    "len(games_dict['applist']['apps'])"
   ]
  },
  {
   "cell_type": "code",
   "execution_count": 47,
   "metadata": {},
   "outputs": [
    {
     "data": {
      "text/plain": [
       "[{'appid': 216938, 'name': 'Pieterw test app76 ( 216938 )'},\n",
       " {'appid': 660010, 'name': 'test2'},\n",
       " {'appid': 660130, 'name': 'test3'},\n",
       " {'appid': 796560, 'name': 'The Bad Bunch'},\n",
       " {'appid': 796580, 'name': '100 Seconds'},\n",
       " {'appid': 796590, 'name': 'Taghia'},\n",
       " {'appid': 796600, 'name': \"DON'T touch the walls\"},\n",
       " {'appid': 796620, 'name': 'Girl X Mushrooms(少女X蘑菇)'},\n",
       " {'appid': 796640, 'name': 'Mr.Jezko'},\n",
       " {'appid': 796650, 'name': 'Frio2 - Memory of my sister'}]"
      ]
     },
     "execution_count": 47,
     "metadata": {},
     "output_type": "execute_result"
    }
   ],
   "source": [
    "games_dict['applist']['apps'][:10]"
   ]
  },
  {
   "cell_type": "code",
   "execution_count": 48,
   "metadata": {},
   "outputs": [],
   "source": [
    "game_id = '796620'\n",
    "testing = requests.get(f'http://store.steampowered.com/api/appdetails/?appids=${game_id}')"
   ]
  },
  {
   "cell_type": "code",
   "execution_count": 49,
   "metadata": {},
   "outputs": [
    {
     "data": {
      "text/plain": [
       "<Response [400]>"
      ]
     },
     "execution_count": 49,
     "metadata": {},
     "output_type": "execute_result"
    }
   ],
   "source": [
    "testing"
   ]
  },
  {
   "cell_type": "code",
   "execution_count": null,
   "metadata": {},
   "outputs": [],
   "source": []
  }
 ],
 "metadata": {
  "kernelspec": {
   "display_name": "Python 3",
   "language": "python",
   "name": "python3"
  },
  "language_info": {
   "codemirror_mode": {
    "name": "ipython",
    "version": 3
   },
   "file_extension": ".py",
   "mimetype": "text/x-python",
   "name": "python",
   "nbconvert_exporter": "python",
   "pygments_lexer": "ipython3",
   "version": "3.8.2"
  }
 },
 "nbformat": 4,
 "nbformat_minor": 4
}
